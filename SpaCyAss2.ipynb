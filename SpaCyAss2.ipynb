{
 "cells": [
  {
   "cell_type": "code",
   "id": "initial_id",
   "metadata": {
    "collapsed": true,
    "ExecuteTime": {
     "end_time": "2024-09-26T12:06:13.798460Z",
     "start_time": "2024-09-26T12:06:12.391115Z"
    }
   },
   "source": [
    "import spacy\n",
    "\n",
    "nlp = spacy.load(\"en_core_web_md\")"
   ],
   "outputs": [],
   "execution_count": 6
  },
  {
   "metadata": {
    "ExecuteTime": {
     "end_time": "2024-09-26T12:06:13.822067Z",
     "start_time": "2024-09-26T12:06:13.798460Z"
    }
   },
   "cell_type": "code",
   "source": [
    "# Read the text files\n",
    "\n",
    "# Read the \"Moby Dick\" extract\n",
    "with open(\"mobydick.txt\", \"r\", encoding=\"utf-8\", errors=\"replace\") as file:\n",
    "    moby_dick_text = file.read()\n",
    "\n",
    "# Read the ai_forecast1.txt file\n",
    "with open(\"ai_forecast1.txt\", \"r\", encoding=\"utf-8\", errors=\"replace\") as file:\n",
    "    ai_forecast1_text = file.read()\n",
    "\n",
    "# Read the ai_forecast2.txt file\n",
    "with open(\"ai_forecast2.txt\", \"r\", encoding=\"utf-8\", errors=\"replace\") as file:\n",
    "    ai_forecast2_text = file.read()"
   ],
   "id": "2191821ae39e8a58",
   "outputs": [],
   "execution_count": 7
  },
  {
   "metadata": {
    "ExecuteTime": {
     "end_time": "2024-09-26T12:06:52.568082Z",
     "start_time": "2024-09-26T12:06:13.822466Z"
    }
   },
   "cell_type": "code",
   "source": [
    "# Process the text with SpaCy\n",
    "\n",
    "# Increase the maximum length allowed by SpaCy\n",
    "nlp.max_length = len(moby_dick_text)\n",
    "\n",
    "doc_moby_dick = nlp(moby_dick_text)\n",
    "doc_ai_forecast1 = nlp(ai_forecast1_text)\n",
    "doc_ai_forecast2 = nlp(ai_forecast2_text)"
   ],
   "id": "ad0ec53eec2205e4",
   "outputs": [],
   "execution_count": 8
  },
  {
   "metadata": {
    "ExecuteTime": {
     "end_time": "2024-09-26T12:06:53.450928Z",
     "start_time": "2024-09-26T12:06:52.569905Z"
    }
   },
   "cell_type": "code",
   "source": [
    "# Compare the documents\n",
    "similarity_1_2 = doc_moby_dick.similarity(doc_ai_forecast1)\n",
    "similarity_1_3 = doc_moby_dick.similarity(doc_ai_forecast2)\n",
    "similarity_2_3 = doc_ai_forecast1.similarity(doc_ai_forecast2)\n",
    "\n",
    "print(f\"Similarity between Moby Dick and ai_forecast1: {similarity_1_2}\")\n",
    "print(f\"Similarity between Moby Dick and ai_forecast2: {similarity_1_3}\")\n",
    "print(f\"Similarity between ai_forecast1 and ai_forecast2: {similarity_2_3}\")\n"
   ],
   "id": "818cabef6a32c0ed",
   "outputs": [
    {
     "name": "stdout",
     "output_type": "stream",
     "text": [
      "Similarity between Moby Dick and ai_forecast1: 0.8483013234148108\n",
      "Similarity between Moby Dick and ai_forecast2: 0.894156146743148\n",
      "Similarity between ai_forecast1 and ai_forecast2: 0.9841067849106802\n"
     ]
    }
   ],
   "execution_count": 9
  },
  {
   "metadata": {
    "ExecuteTime": {
     "end_time": "2024-09-26T12:08:49.481456Z",
     "start_time": "2024-09-26T12:08:49.450757Z"
    }
   },
   "cell_type": "code",
   "source": [
    "# Compare the first 100 tokens of the documents\n",
    "doc_moby_dick_100 = doc_moby_dick[:100]\n",
    "doc_ai_forecast1_100 = doc_ai_forecast1[:100]\n",
    "doc_ai_forecast2_100 = doc_ai_forecast2[:100]\n",
    "\n",
    "similarity_100_1_2 = doc_moby_dick_100.similarity(doc_ai_forecast1_100)\n",
    "similarity_100_1_3 = doc_moby_dick_100.similarity(doc_ai_forecast2_100)\n",
    "similarity_100_2_3 = doc_ai_forecast1_100.similarity(doc_ai_forecast2_100)\n",
    "\n",
    "print(f\"Similarity between first 100 tokens of Moby Dick and ai_forecast1: {similarity_100_1_2}\")\n",
    "print(f\"Similarity between first 100 tokens of Moby Dick and ai_forecast2: {similarity_100_1_3}\")\n",
    "print(f\"Similarity between first 100 tokens of ai_forecast1 and ai_forecast2: {similarity_100_2_3}\")"
   ],
   "id": "335caca6f0e66999",
   "outputs": [
    {
     "name": "stdout",
     "output_type": "stream",
     "text": [
      "Similarity between first 100 tokens of Moby Dick and ai_forecast1: 0.45211589336395264\n",
      "Similarity between first 100 tokens of Moby Dick and ai_forecast2: 0.43093761801719666\n",
      "Similarity between first 100 tokens of ai_forecast1 and ai_forecast2: 0.9562583565711975\n"
     ]
    }
   ],
   "execution_count": 10
  },
  {
   "metadata": {
    "ExecuteTime": {
     "end_time": "2024-09-26T12:16:47.638254Z",
     "start_time": "2024-09-26T12:16:47.496612Z"
    }
   },
   "cell_type": "code",
   "source": [
    "# Create a blank English model\n",
    "nlp_blank = spacy.blank(\"en\")\n",
    "\n",
    "text_with_name = \"Manuel Schönberger is working on a project.\"\n",
    "doc = nlp_blank(text_with_name)\n",
    "\n",
    "# Manually annotate the name as a PERSON entity\n",
    "from spacy.tokens import Span\n",
    "\n",
    "span = Span(doc, 0, 2, label=\"PERSON\") \n",
    "doc.ents = [span]\n",
    "\n",
    "for ent in doc.ents:\n",
    "    print(f\"Entity: {ent.text}, Label: {ent.label_}\")\n"
   ],
   "id": "d6f70f7b455fa9bb",
   "outputs": [
    {
     "name": "stdout",
     "output_type": "stream",
     "text": [
      "Entity: Manuel Schönberger, Label: PERSON\n"
     ]
    }
   ],
   "execution_count": 13
  }
 ],
 "metadata": {
  "kernelspec": {
   "display_name": "Python 3",
   "language": "python",
   "name": "python3"
  },
  "language_info": {
   "codemirror_mode": {
    "name": "ipython",
    "version": 2
   },
   "file_extension": ".py",
   "mimetype": "text/x-python",
   "name": "python",
   "nbconvert_exporter": "python",
   "pygments_lexer": "ipython2",
   "version": "2.7.6"
  }
 },
 "nbformat": 4,
 "nbformat_minor": 5
}
